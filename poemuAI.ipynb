from transformers import AutoModelForCausalLM, AutoTokenizer
from diffusers import StableDiffusionPipeline
import torch, re
from IPython.display import display, Image, Markdown
import os

# デバイスの設定
device = torch.device("cuda" if torch.cuda.is_available() else "cpu")

# モデルとトークナイザーのセットアップ
model_name = "rinna/japanese-gpt2-medium"  # 使用したいモデル名に変更
tokenizer = AutoTokenizer.from_pretrained(model_name, use_fast=False)
model = AutoModelForCausalLM.from_pretrained(model_name, torch_dtype=torch.float16)
model.to(device)
model.eval()

# Stable Diffusion パイプラインのセットアップ
sd_pipeline = StableDiffusionPipeline.from_pretrained(
    "runwayml/stable-diffusion-v1-5",
    torch_dtype=torch.float16,
).to(device)

# 画像保存ディレクトリの作成
output_dir = "generated_images"
os.makedirs(output_dir, exist_ok=True)

# ポエム生成関数
def generate_poem(prompt, max_new_tokens=60):
    input_ids = tokenizer.encode(prompt, return_tensors="pt").to(device)
    output_ids = model.generate(
        input_ids,
        max_new_tokens=max_new_tokens,
        do_sample=True,
        temperature=0.7,
        top_p=0.9,
        repetition_penalty=1.2,
        pad_token_id=tokenizer.pad_token_id,
        eos_token_id=tokenizer.eos_token_id,
    )
    output = tokenizer.decode(output_ids[0], skip_special_tokens=True).strip()
    # プロンプト部分を削除
    poem = output[len(prompt):].strip()
    # ポエムのみを抽出（最初の句点または改行まで）
    poem = re.split(r"[。！？\n]", poem)[0]
    # 不要な特殊文字の除去
    poem = re.sub(r'[^\w\s]', '', poem).strip()
    # トークン数を制限
    return poem[:50] + "..." if len(poem) > 50 else poem

# ポエムの例とテーマリスト
poem_examples = """以下はポエムの例です：

テーマ: 都会の夜
ポエム: 手に取ったワイングラスで、ネオンが映る街角。夜に舞う光と影のダンス。

テーマ: デジタルの風景
ポエム: スマートフォン越しに見える世界、データの波に揺れる情報の海。

---
新しいテーマに基づいてポエムを生成してください。
"""

themes = ["テクノロジーと未来", "都会の喧騒", "デジタルデトックス", "現代の孤独", "持続可能な生活"]

# 生成と表示ループ
for theme in themes:
    prompt = f"{poem_examples}\nテーマ: {theme}\nポエム:"
    poem = generate_poem(prompt)
    # 画像生成
    image = sd_pipeline(poem).images[0]
    image_path = os.path.join(output_dir, f"poem_{themes.index(theme)+1}.png")
    image.save(image_path)
    # ポエムと画像の表示
    display(Markdown(f"**テーマ: {theme}**\n\n{theme}{poem}"))
    display(Image(filename=image_path))
